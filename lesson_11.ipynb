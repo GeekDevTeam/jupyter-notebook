{
 "cells": [
  {
   "cell_type": "code",
   "execution_count": 7,
   "id": "42d6cc4c",
   "metadata": {},
   "outputs": [],
   "source": [
    "# y = x**2 - 6*abs(x) + 8\n",
    "# 1. Определить корни\n",
    "# 2. Найти интервалы, на которых функция возрастает\n",
    "# 3. Найти интервалы, на которых функция убывает\n",
    "# 4. Построить график\n",
    "# 5. Вычислить вершину\n",
    "# 6. Определить промежутки, на котором f > 0\n",
    "# 7. Определить промежутки, на котором f < 0"
   ]
  },
  {
   "cell_type": "code",
   "execution_count": 11,
   "id": "855eee99",
   "metadata": {},
   "outputs": [],
   "source": [
    "from sympy import Symbol, oo, diff, Interval, is_increasing, is_decreasing, pprint\n",
    "from sympy.solvers import solve, solveset\n",
    "from sympy.plotting import plot\n",
    "import sympy\n",
    "import math\n",
    "from sympy import *\n",
    "\n",
    "init_printing()"
   ]
  },
  {
   "cell_type": "code",
   "execution_count": 12,
   "id": "2129e967",
   "metadata": {},
   "outputs": [
    {
     "data": {
      "image/png": "[encoded data removed]",
      "text/latex": [
       "$\\displaystyle x^{2} - 6 \\left|{x}\\right| + 8$"
      ],
      "text/plain": [
       " 2            \n",
       "x  - 6⋅│x│ + 8"
      ]
     },
     "execution_count": 12,
     "metadata": {},
     "output_type": "execute_result"
    }
   ],
   "source": [
    "x = Symbol('x', real = True)\n",
    "y = x**2 - 6*abs(x) + 8\n",
    "y"
   ]
  },
  {
   "cell_type": "code",
   "execution_count": 14,
   "id": "55fe1177",
   "metadata": {},
   "outputs": [
    {
     "data": {
      "image/png": "[encoded data removed]",
      "text/latex": [
       "$\\displaystyle \\left[ -4, \\  -2, \\  2, \\  4\\right]$"
      ],
      "text/plain": [
       "[-4, -2, 2, 4]"
      ]
     },
     "execution_count": 14,
     "metadata": {},
     "output_type": "execute_result"
    }
   ],
   "source": [
    "# 1. Определить корни\n",
    "roots = solve(y, x)\n",
    "roots"
   ]
  },
  {
   "cell_type": "code",
   "execution_count": 29,
   "id": "44742ebe",
   "metadata": {},
   "outputs": [
    {
     "name": "stdout",
     "output_type": "stream",
     "text": [
      "Функция убывает в промедутке Interval(-oo, -4)\n",
      "Функция возврастает в промедутке Interval(-4, -2)\n",
      "Функция убывает в промедутке Interval(-2, 2)\n",
      "Функция возврастает в промедутке Interval(4, oo)\n"
     ]
    }
   ],
   "source": [
    "# 2. Найти интервалы, на которых функция возрастает\n",
    "# 3. Найти интервалы, на которых функция убывает\n",
    "for i in range(len(roots)):\n",
    "    if i == 0:\n",
    "        if is_increasing(y, Interval(-oo, roots[i] - 1)):\n",
    "            print(f'Функция возврастает в промедутке {Interval(-oo, roots[i])}')\n",
    "        else:\n",
    "            print(f'Функция убывает в промедутке {Interval(-oo, roots[i])}')\n",
    "    elif i == len(roots) - 1:\n",
    "        if is_increasing(y, Interval(roots[i] + 1, +oo)):\n",
    "            print(f'Функция возврастает в промедутке {Interval(roots[i], +oo)}')\n",
    "        else:\n",
    "            print(f'Функция убывает в промедутке {Interval(roots[i], +oo)}')\n",
    "    else:\n",
    "        if is_increasing(y, Interval(roots[i-1] + 1, roots[i] - 1)):\n",
    "            print(f'Функция возврастает в промедутке {Interval(roots[i-1], roots[i])}')\n",
    "        else:\n",
    "            print(f'Функция убывает в промедутке {Interval(roots[i-1], roots[i])}')\n",
    "            "
   ]
  },
  {
   "cell_type": "code",
   "execution_count": 24,
   "id": "0fc232a0",
   "metadata": {
    "scrolled": false
   },
   "outputs": [
    {
     "data": {
      "image/png": "[encoded data removed]",
      "text/plain": [
       "<Figure size 432x288 with 1 Axes>"
      ]
     },
     "metadata": {
      "needs_background": "light"
     },
     "output_type": "display_data"
    },
    {
     "data": {
      "text/plain": [
       "<sympy.plotting.plot.Plot at 0x22fdf670af0>"
      ]
     },
     "execution_count": 24,
     "metadata": {},
     "output_type": "execute_result"
    }
   ],
   "source": [
    "# 4. Построить график\n",
    "p1 = plot(y)\n",
    "p1"
   ]
  },
  {
   "cell_type": "code",
   "execution_count": 35,
   "id": "c4853fef",
   "metadata": {},
   "outputs": [
    {
     "name": "stdout",
     "output_type": "stream",
     "text": [
      "(x=3, y=-1) (x=-3, y=-1)\n"
     ]
    }
   ],
   "source": [
    "# 5. Вычислить вершину\n",
    "derivate = diff(y, x)\n",
    "roots_diff = solve(derivate, x)\n",
    "if len(roots_diff) == 1:\n",
    "    root_plus = roots_diff[0]\n",
    "    root_minus = -roots_diff[0]\n",
    "\n",
    "top_y1 = y.subs(x, root_plus)\n",
    "top_y2 = y.subs(x, root_minus)\n",
    "\n",
    "print(f'(x={root_plus}, y={top_y1}) (x={root_minus}, y={top_y2})')\n"
   ]
  },
  {
   "cell_type": "code",
   "execution_count": 39,
   "id": "63be2b5a",
   "metadata": {},
   "outputs": [
    {
     "name": "stdout",
     "output_type": "stream",
     "text": [
      "Функция f > 0 в промежутке Interval(-oo, -4)\n",
      "Функция f < 0 в промедутке Interval(-4, -2)\n",
      "Функция f > 0 в промедутке Interval(-2, 2)\n",
      "Функция f < 0 в промежутке Interval(4, oo)\n"
     ]
    }
   ],
   "source": [
    "# 6. Определить промежутки, на котором f > 0\n",
    "# 7. Определить промежутки, на котором f < 0\n",
    "\n",
    "for i in range(len(roots)):\n",
    "    is_positive = y.subs(x, roots[i] - 0.000001) > 0\n",
    "    if i == 0:\n",
    "        if is_positive:\n",
    "            print(f'Функция f > 0 в промежутке {Interval(-oo, roots[i])}')\n",
    "        else:\n",
    "            print(f'Функция f < 0 в промежутке {Interval(-oo, roots[i])}')\n",
    "    elif i == len(roots) - 1:\n",
    "        if is_positive:\n",
    "            print(f'Функция f > 0 в промежутке {Interval(roots[i], +oo)}')\n",
    "        else:\n",
    "            print(f'Функция f < 0 в промежутке {Interval(roots[i], +oo)}')\n",
    "    else:\n",
    "        if is_positive:\n",
    "            print(f'Функция f > 0 в промедутке {Interval(roots[i-1], roots[i])}')\n",
    "        else:\n",
    "            print(f'Функция f < 0 в промедутке {Interval(roots[i-1], roots[i])}')"
   ]
  }
 ],
 "metadata": {
  "kernelspec": {
   "display_name": "Python 3 (ipykernel)",
   "language": "python",
   "name": "python3"
  },
  "language_info": {
   "codemirror_mode": {
    "name": "ipython",
    "version": 3
   },
   "file_extension": ".py",
   "mimetype": "text/x-python",
   "name": "python",
   "nbconvert_exporter": "python",
   "pygments_lexer": "ipython3",
   "version": "3.9.12"
  }
 },
 "nbformat": 4,
 "nbformat_minor": 5
}
